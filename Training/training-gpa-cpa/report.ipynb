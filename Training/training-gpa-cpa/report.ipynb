{
 "cells": [
  {
   "cell_type": "code",
   "execution_count": 1,
   "id": "831c916c",
   "metadata": {},
   "outputs": [
    {
     "name": "stderr",
     "output_type": "stream",
     "text": [
      "c:\\Users\\vuman\\AppData\\Local\\Programs\\Python\\Python310\\lib\\site-packages\\tqdm\\auto.py:21: TqdmWarning: IProgress not found. Please update jupyter and ipywidgets. See https://ipywidgets.readthedocs.io/en/stable/user_install.html\n",
      "  from .autonotebook import tqdm as notebook_tqdm\n"
     ]
    },
    {
     "data": {
      "text/html": [
       "\n",
       "            <div>\n",
       "                <ins><a href=\"https://ydata.ai/register\">Upgrade to ydata-sdk</a></ins>\n",
       "                <p>\n",
       "                    Improve your data and profiling with ydata-sdk, featuring data quality scoring, redundancy detection, outlier identification, text validation, and synthetic data generation.\n",
       "                </p>\n",
       "            </div>\n",
       "            "
      ],
      "text/plain": [
       "<IPython.core.display.HTML object>"
      ]
     },
     "metadata": {},
     "output_type": "display_data"
    },
    {
     "name": "stderr",
     "output_type": "stream",
     "text": [
      "100%|██████████| 26/26 [00:00<00:00, 471.59it/s]<00:00, 84.21it/s, Describe variable: Final_CPA]\n",
      "Summarize dataset: 100%|██████████| 660/660 [01:01<00:00, 10.73it/s, Completed]                   \n",
      "Generate report structure: 100%|██████████| 1/1 [00:07<00:00,  7.11s/it]\n",
      "Render HTML: 100%|██████████| 1/1 [00:13<00:00, 13.77s/it]\n",
      "Export report to file: 100%|██████████| 1/1 [00:00<00:00,  7.57it/s]\n",
      "100%|██████████| 32/32 [00:00<00:00, 238.64it/s]<00:00, 101.28it/s, Describe variable: Final_CPA]\n",
      "Summarize dataset: 100%|██████████| 1002/1002 [01:42<00:00,  9.81it/s, Completed]                  \n",
      "Generate report structure: 100%|██████████| 1/1 [00:07<00:00,  7.42s/it]\n",
      "Render HTML: 100%|██████████| 1/1 [00:19<00:00, 19.59s/it]\n",
      "Export report to file: 100%|██████████| 1/1 [00:00<00:00,  3.88it/s]\n"
     ]
    }
   ],
   "source": [
    "import pandas as pd\n",
    "from ydata_profiling import ProfileReport\n",
    "\n",
    "# Đọc dữ liệu\n",
    "df_8 = pd.read_excel(\"Data_clean/Data_GPA_CPA_final_8_ky.xlsx\")\n",
    "df_10 = pd.read_excel(\"Data_clean/Data_GPA_CPA_final_10_ky.xlsx\")\n",
    "\n",
    "# Tạo báo cáo\n",
    "profile_8 = ProfileReport(df_8, title=\"Báo cáo 8 kỳ\", explorative=True)\n",
    "profile_10 = ProfileReport(df_10, title=\"Báo cáo 10 kỳ\", explorative=True)\n",
    "\n",
    "# Lưu báo cáo ra HTML\n",
    "profile_8.to_file('Report/profiling_8_ky.html')\n",
    "profile_10.to_file('Report/profiling_10_ky.html')"
   ]
  },
  {
   "cell_type": "code",
   "execution_count": 1,
   "id": "748d6726",
   "metadata": {},
   "outputs": [
    {
     "name": "stderr",
     "output_type": "stream",
     "text": [
      "c:\\Users\\vuman\\AppData\\Local\\Programs\\Python\\Python310\\lib\\site-packages\\tqdm\\auto.py:21: TqdmWarning: IProgress not found. Please update jupyter and ipywidgets. See https://ipywidgets.readthedocs.io/en/stable/user_install.html\n",
      "  from .autonotebook import tqdm as notebook_tqdm\n"
     ]
    },
    {
     "data": {
      "text/html": [
       "\n",
       "            <div>\n",
       "                <ins><a href=\"https://ydata.ai/register\">Upgrade to ydata-sdk</a></ins>\n",
       "                <p>\n",
       "                    Improve your data and profiling with ydata-sdk, featuring data quality scoring, redundancy detection, outlier identification, text validation, and synthetic data generation.\n",
       "                </p>\n",
       "            </div>\n",
       "            "
      ],
      "text/plain": [
       "<IPython.core.display.HTML object>"
      ]
     },
     "metadata": {},
     "output_type": "display_data"
    },
    {
     "name": "stderr",
     "output_type": "stream",
     "text": [
      "100%|██████████| 32/32 [00:00<00:00, 223.78it/s]<00:00, 114.00it/s, Describe variable: Xử lý tín hiệu số]                 \n",
      "Summarize dataset: 100%|██████████| 882/882 [01:40<00:00,  8.81it/s, Completed]                                                                     \n",
      "Generate report structure: 100%|██████████| 1/1 [00:06<00:00,  6.20s/it]\n",
      "Render HTML: 100%|██████████| 1/1 [00:31<00:00, 31.43s/it]\n",
      "Export report to file: 100%|██████████| 1/1 [00:00<00:00,  2.60it/s]\n"
     ]
    }
   ],
   "source": [
    "import pandas as pd\n",
    "from ydata_profiling import ProfileReport\n",
    "\n",
    "# Đọc dữ liệu\n",
    "df = pd.read_excel(\"Data_clean/Data_subject_complete.xlsx\")\n",
    "\n",
    "# Tạo báo cáo\n",
    "profile = ProfileReport(df, title=\"Báo cáo môn học kỳ\", explorative=True)\n",
    "\n",
    "# Lưu báo cáo ra HTML\n",
    "profile.to_file('Report/report_subject_ky.html')"
   ]
  }
 ],
 "metadata": {
  "kernelspec": {
   "display_name": "Python 3",
   "language": "python",
   "name": "python3"
  },
  "language_info": {
   "codemirror_mode": {
    "name": "ipython",
    "version": 3
   },
   "file_extension": ".py",
   "mimetype": "text/x-python",
   "name": "python",
   "nbconvert_exporter": "python",
   "pygments_lexer": "ipython3",
   "version": "3.10.11"
  }
 },
 "nbformat": 4,
 "nbformat_minor": 5
}
